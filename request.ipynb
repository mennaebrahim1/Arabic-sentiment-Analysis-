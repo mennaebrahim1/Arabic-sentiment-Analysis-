{
 "cells": [
  {
   "cell_type": "code",
   "execution_count": 4,
   "metadata": {},
   "outputs": [
    {
     "name": "stdout",
     "output_type": "stream",
     "text": [
      "Running on local URL:  http://127.0.0.1:7863\n",
      "\n",
      "To create a public link, set `share=True` in `launch()`.\n"
     ]
    },
    {
     "data": {
      "text/html": [
       "<div><iframe src=\"http://127.0.0.1:7863/\" width=\"100%\" height=\"500\" allow=\"autoplay; camera; microphone; clipboard-read; clipboard-write;\" frameborder=\"0\" allowfullscreen></iframe></div>"
      ],
      "text/plain": [
       "<IPython.core.display.HTML object>"
      ]
     },
     "metadata": {},
     "output_type": "display_data"
    },
    {
     "name": "stdout",
     "output_type": "stream",
     "text": [
      "IMPORTANT: You are using gradio version 3.41.0, however version 4.44.1 is available, please upgrade.\n",
      "--------\n"
     ]
    }
   ],
   "source": [
    "import gradio as gr\n",
    "import requests\n",
    "\n",
    "def predict_review(review):\n",
    "    url = 'http://192.168.1.2:5000/predictAPI'  # Replace with your server IP if needed\n",
    "\n",
    "    # Create a JSON payload\n",
    "    data = {\n",
    "        \"inputs\": review\n",
    "    }\n",
    "\n",
    "    # Make the POST request\n",
    "    try:\n",
    "        response = requests.post(url, json=data)\n",
    "\n",
    "        # Check the status code and response\n",
    "        if response.status_code == 200:\n",
    "            sentiment_map = {\n",
    "                1: \"The review is Positive\",\n",
    "                0: \"The review is Neutral\",\n",
    "                -1: \"The review is Negative\"\n",
    "            }\n",
    "            \n",
    "            # Get the predicted class\n",
    "            predicted_class = response.json().get('predicted')\n",
    "            \n",
    "            # If predicted_class is a list, take the first element\n",
    "            if isinstance(predicted_class, list):\n",
    "                predicted_class = predicted_class[0]\n",
    "            \n",
    "            # Return the sentiment using the predicted class as a key\n",
    "            return sentiment_map.get(predicted_class, \"Unknown sentiment\")  # Handle unknown predictions\n",
    "        else:\n",
    "            return f\"Error: {response.status_code} - {response.text}\"\n",
    "    except requests.exceptions.RequestException as e:\n",
    "        return f\"Request failed: {str(e)}\"\n",
    "# Create the Gradio interface\n",
    "iface = gr.Interface(\n",
    "    fn=predict_review,\n",
    "    inputs=gr.Textbox(lines=5, placeholder=\"Enter your review in Arabic...\"),\n",
    "    outputs=\"text\",\n",
    "    title=\"Arabic Review Classifier\",\n",
    "    description=\"This application predicts the sentiment of Arabic reviews. Please enter your review in the textbox above.\"\n",
    ")\n",
    "\n",
    "# Launch the interface\n",
    "if __name__ == \"__main__\":\n",
    "    iface.launch()\n"
   ]
  }
 ],
 "metadata": {
  "kernelspec": {
   "display_name": "gp",
   "language": "python",
   "name": "python3"
  },
  "language_info": {
   "codemirror_mode": {
    "name": "ipython",
    "version": 3
   },
   "file_extension": ".py",
   "mimetype": "text/x-python",
   "name": "python",
   "nbconvert_exporter": "python",
   "pygments_lexer": "ipython3",
   "version": "3.9.18"
  }
 },
 "nbformat": 4,
 "nbformat_minor": 2
}
